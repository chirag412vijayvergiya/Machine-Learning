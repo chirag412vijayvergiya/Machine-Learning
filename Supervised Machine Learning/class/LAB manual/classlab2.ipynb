{
 "cells": [
  {
   "cell_type": "code",
   "execution_count": 5,
   "metadata": {},
   "outputs": [],
   "source": [
    "import cv2"
   ]
  },
  {
   "cell_type": "code",
   "execution_count": 3,
   "metadata": {},
   "outputs": [
    {
     "name": "stdout",
     "output_type": "stream",
     "text": [
      "[[[255 255 255]\n",
      "  [255 255 255]\n",
      "  [255 255 255]\n",
      "  ...\n",
      "  [255 255 255]\n",
      "  [255 255 255]\n",
      "  [255 255 255]]\n",
      "\n",
      " [[255 255 255]\n",
      "  [255 255 255]\n",
      "  [255 255 255]\n",
      "  ...\n",
      "  [255 255 255]\n",
      "  [255 255 255]\n",
      "  [255 255 255]]\n",
      "\n",
      " [[255 255 255]\n",
      "  [255 255 255]\n",
      "  [255 255 255]\n",
      "  ...\n",
      "  [255 255 255]\n",
      "  [255 255 255]\n",
      "  [255 255 255]]\n",
      "\n",
      " ...\n",
      "\n",
      " [[110  77  58]\n",
      "  [107  71  53]\n",
      "  [ 87  48  33]\n",
      "  ...\n",
      "  [ 46  30  18]\n",
      "  [ 51  39  29]\n",
      "  [ 31  20  12]]\n",
      "\n",
      " [[132  90  71]\n",
      "  [123  83  64]\n",
      "  [ 92  54  36]\n",
      "  ...\n",
      "  [ 42  25  16]\n",
      "  [ 53  40  32]\n",
      "  [ 28  18  11]]\n",
      "\n",
      " [[139  85  62]\n",
      "  [144  97  75]\n",
      "  [101  64  44]\n",
      "  ...\n",
      "  [ 51  32  24]\n",
      "  [ 46  32  26]\n",
      "  [ 19  12   9]]]\n"
     ]
    }
   ],
   "source": [
    "path = \"image.jpg\"\n",
    "img = cv2.imread(path)\n",
    "print(img)"
   ]
  },
  {
   "cell_type": "code",
   "execution_count": 9,
   "metadata": {},
   "outputs": [],
   "source": [
    "cv2.imshow(\"i\", img)"
   ]
  },
  {
   "cell_type": "code",
   "execution_count": 10,
   "metadata": {},
   "outputs": [
    {
     "name": "stdout",
     "output_type": "stream",
     "text": [
      "[[[255 255 255]\n",
      "  [255 255 255]\n",
      "  [255 255 255]\n",
      "  ...\n",
      "  [255 255 255]\n",
      "  [255 255 255]\n",
      "  [255 255 255]]\n",
      "\n",
      " [[255 255 255]\n",
      "  [255 255 255]\n",
      "  [255 255 255]\n",
      "  ...\n",
      "  [255 255 255]\n",
      "  [255 255 255]\n",
      "  [255 255 255]]\n",
      "\n",
      " [[255 255 255]\n",
      "  [255 255 255]\n",
      "  [255 255 255]\n",
      "  ...\n",
      "  [255 255 255]\n",
      "  [255 255 255]\n",
      "  [255 255 255]]\n",
      "\n",
      " ...\n",
      "\n",
      " [[110  77  58]\n",
      "  [107  71  53]\n",
      "  [ 87  48  33]\n",
      "  ...\n",
      "  [ 46  30  18]\n",
      "  [ 51  39  29]\n",
      "  [ 31  20  12]]\n",
      "\n",
      " [[132  90  71]\n",
      "  [123  83  64]\n",
      "  [ 92  54  36]\n",
      "  ...\n",
      "  [ 42  25  16]\n",
      "  [ 53  40  32]\n",
      "  [ 28  18  11]]\n",
      "\n",
      " [[139  85  62]\n",
      "  [144  97  75]\n",
      "  [101  64  44]\n",
      "  ...\n",
      "  [ 51  32  24]\n",
      "  [ 46  32  26]\n",
      "  [ 19  12   9]]]\n"
     ]
    }
   ],
   "source": [
    "import cv2 \n",
    "path = \"image.jpg\"\n",
    "img = cv2.imread(path)\n",
    "print(img)"
   ]
  },
  {
   "cell_type": "code",
   "execution_count": 11,
   "metadata": {},
   "outputs": [
    {
     "name": "stdout",
     "output_type": "stream",
     "text": [
      "[[255 255 255 ... 255 255 255]\n",
      " [255 255 255 ... 255 255 255]\n",
      " [255 255 255 ... 255 255 255]\n",
      " ...\n",
      " [ 75  70  48 ...  28  37  19]\n",
      " [ 89  82  53 ...  24  39  17]\n",
      " [ 84  96  62 ...  32  32  12]]\n"
     ]
    }
   ],
   "source": [
    "import cv2 \n",
    "path = \"image.jpg\"\n",
    "img = cv2.imread(path, 0)\n",
    "print(img)"
   ]
  },
  {
   "cell_type": "code",
   "execution_count": null,
   "metadata": {},
   "outputs": [
    {
     "ename": "",
     "evalue": "",
     "output_type": "error",
     "traceback": [
      "\u001b[1;31mThe Kernel crashed while executing code in the current cell or a previous cell. \n",
      "\u001b[1;31mPlease review the code in the cell(s) to identify a possible cause of the failure. \n",
      "\u001b[1;31mClick <a href='https://aka.ms/vscodeJupyterKernelCrash'>here</a> for more info. \n",
      "\u001b[1;31mView Jupyter <a href='command:jupyter.viewOutput'>log</a> for further details."
     ]
    }
   ],
   "source": [
    "cv2.imshow(\"i\", img)"
   ]
  },
  {
   "cell_type": "code",
   "execution_count": 3,
   "metadata": {},
   "outputs": [],
   "source": [
    "import matplotlib.pyplot as plt\n",
    "import cv2 \n"
   ]
  },
  {
   "cell_type": "code",
   "execution_count": 8,
   "metadata": {},
   "outputs": [],
   "source": [
    "path = \"image.jpg\"\n",
    "img = cv2.imread(path, -1)"
   ]
  },
  {
   "cell_type": "code",
   "execution_count": 13,
   "metadata": {},
   "outputs": [],
   "source": [
    "cv2.imshow(\"i\",img)"
   ]
  },
  {
   "cell_type": "code",
   "execution_count": 10,
   "metadata": {},
   "outputs": [
    {
     "name": "stdout",
     "output_type": "stream",
     "text": [
      "[[[255 255 255]\n",
      "  [255 255 255]\n",
      "  [255 255 255]\n",
      "  ...\n",
      "  [255 255 255]\n",
      "  [255 255 255]\n",
      "  [255 255 255]]\n",
      "\n",
      " [[255 255 255]\n",
      "  [255 255 255]\n",
      "  [255 255 255]\n",
      "  ...\n",
      "  [255 255 255]\n",
      "  [255 255 255]\n",
      "  [255 255 255]]\n",
      "\n",
      " [[255 255 255]\n",
      "  [255 255 255]\n",
      "  [255 255 255]\n",
      "  ...\n",
      "  [255 255 255]\n",
      "  [255 255 255]\n",
      "  [255 255 255]]\n",
      "\n",
      " ...\n",
      "\n",
      " [[110  77  58]\n",
      "  [107  71  53]\n",
      "  [ 87  48  33]\n",
      "  ...\n",
      "  [ 46  30  18]\n",
      "  [ 51  39  29]\n",
      "  [ 31  20  12]]\n",
      "\n",
      " [[132  90  71]\n",
      "  [123  83  64]\n",
      "  [ 92  54  36]\n",
      "  ...\n",
      "  [ 42  25  16]\n",
      "  [ 53  40  32]\n",
      "  [ 28  18  11]]\n",
      "\n",
      " [[139  85  62]\n",
      "  [144  97  75]\n",
      "  [101  64  44]\n",
      "  ...\n",
      "  [ 51  32  24]\n",
      "  [ 46  32  26]\n",
      "  [ 19  12   9]]]\n"
     ]
    }
   ],
   "source": [
    "print(img)"
   ]
  },
  {
   "cell_type": "code",
   "execution_count": 11,
   "metadata": {},
   "outputs": [
    {
     "name": "stdout",
     "output_type": "stream",
     "text": [
      "(225, 225, 3)\n"
     ]
    }
   ],
   "source": [
    "print(img.shape)"
   ]
  },
  {
   "cell_type": "code",
   "execution_count": 14,
   "metadata": {},
   "outputs": [
    {
     "name": "stdout",
     "output_type": "stream",
     "text": [
      "[[255 255 255 ... 255 255 255]\n",
      " [255 255 255 ... 255 255 255]\n",
      " [255 255 255 ... 255 255 255]\n",
      " ...\n",
      " [ 75  70  48 ...  28  37  19]\n",
      " [ 89  82  53 ...  24  39  17]\n",
      " [ 84  96  62 ...  32  32  12]]\n"
     ]
    }
   ],
   "source": [
    "import cv2  \n",
    "path = \"image.jpg\"\n",
    "img = cv2.imread(path, 0)\n",
    "print(img)"
   ]
  },
  {
   "cell_type": "code",
   "execution_count": 15,
   "metadata": {},
   "outputs": [
    {
     "name": "stdout",
     "output_type": "stream",
     "text": [
      "(225, 225)\n"
     ]
    }
   ],
   "source": [
    "print(img.shape)"
   ]
  },
  {
   "cell_type": "code",
   "execution_count": 7,
   "metadata": {},
   "outputs": [],
   "source": [
    "path = \"cameraman.jpg\"\n",
    "img = cv2.imread(path, -1)"
   ]
  },
  {
   "cell_type": "code",
   "execution_count": 17,
   "metadata": {},
   "outputs": [
    {
     "name": "stdout",
     "output_type": "stream",
     "text": [
      "[[[155 155 155]\n",
      "  [156 156 156]\n",
      "  [157 157 157]\n",
      "  ...\n",
      "  [154 154 154]\n",
      "  [153 153 153]\n",
      "  [153 153 153]]\n",
      "\n",
      " [[155 155 155]\n",
      "  [156 156 156]\n",
      "  [157 157 157]\n",
      "  ...\n",
      "  [154 154 154]\n",
      "  [153 153 153]\n",
      "  [153 153 153]]\n",
      "\n",
      " [[155 155 155]\n",
      "  [156 156 156]\n",
      "  [157 157 157]\n",
      "  ...\n",
      "  [153 153 153]\n",
      "  [152 152 152]\n",
      "  [152 152 152]]\n",
      "\n",
      " ...\n",
      "\n",
      " [[135 135 135]\n",
      "  [133 133 133]\n",
      "  [130 130 130]\n",
      "  ...\n",
      "  [119 119 119]\n",
      "  [123 123 123]\n",
      "  [123 123 123]]\n",
      "\n",
      " [[130 130 130]\n",
      "  [130 130 130]\n",
      "  [130 130 130]\n",
      "  ...\n",
      "  [111 111 111]\n",
      "  [114 114 114]\n",
      "  [114 114 114]]\n",
      "\n",
      " [[127 127 127]\n",
      "  [128 128 128]\n",
      "  [129 129 129]\n",
      "  ...\n",
      "  [101 101 101]\n",
      "  [104 104 104]\n",
      "  [104 104 104]]]\n",
      "(148, 192, 3)\n"
     ]
    }
   ],
   "source": [
    "print(img)\n",
    "print(img.shape)"
   ]
  },
  {
   "cell_type": "code",
   "execution_count": 18,
   "metadata": {},
   "outputs": [],
   "source": [
    "cv2.imshow(\"i\",img)"
   ]
  },
  {
   "cell_type": "code",
   "execution_count": 8,
   "metadata": {},
   "outputs": [],
   "source": [
    "# Perform digital negative image\n",
    "img = cv2.imread(path, 0)\n",
    "m,n = img.shape\n",
    "L = img.max()\n",
    "negative = L - img\n",
    "# cv2.imshow(\"IMAGE_NEGATIVR\", negative)"
   ]
  },
  {
   "cell_type": "code",
   "execution_count": 11,
   "metadata": {},
   "outputs": [],
   "source": [
    "#THRESHOLDING OPERATION\n",
    "# IF r < T THEN S = 0\n",
    "# IF r > T THEN S = 255\n",
    "import numpy as np\n",
    "T = input(\"Enter the Threshold Value: \")\n",
    "T = int(T)\n",
    "img_thres = np.zeros((m,n), dtype =np.uint8)\n",
    "\n",
    "for i in range(m):\n",
    "    for j in range(n):\n",
    "        if img[i,j] > T:\n",
    "            img_thres[i,j] = 255\n",
    "        else:\n",
    "            img_thres[i,j] = 0\n",
    "\n",
    "cv2.imshow(\"cameraman.jpg\", img_thres)\n",
    "cv2.waitKey(10000)\n",
    "cv2.destroyAllWindows()\n"
   ]
  },
  {
   "cell_type": "code",
   "execution_count": 1,
   "metadata": {},
   "outputs": [
    {
     "name": "stderr",
     "output_type": "stream",
     "text": [
      "2024-07-26 14:39:44.056 Python[72146:9071413] WARNING: Secure coding is not enabled for restorable state! Enable secure coding by implementing NSApplicationDelegate.applicationSupportsSecureRestorableState: and returning YES.\n"
     ]
    }
   ],
   "source": [
    "# Grey Level Slicing\n",
    "import cv2\n",
    "import numpy as np\n",
    "path = \"cameraman.jpg\"\n",
    "img = cv2.imread(path, 0)\n",
    "m,n = img.shape\n",
    "T1 = input(\"Enter the lower Threshold Value: \")\n",
    "T2 = input(\"Enter the Upper Threshold Value: \")\n",
    "T1 = int(T1)\n",
    "T2 = int(T2)\n",
    "img_new = np.zeros((m,n), dtype = np.uint8)\n",
    "for i in range(m):\n",
    "    for j in range(n):\n",
    "        if T1 < img[i,j] < T2:\n",
    "            img_new[i,j] = 255\n",
    "        else:\n",
    "            img_new[i,j] = img[i,j]\n",
    "cv2.imshow(\"cameraman.jpg\", img_new)\n",
    "cv2.waitKey(10000)\n",
    "cv2.destroyAllWindows()\n"
   ]
  },
  {
   "cell_type": "code",
   "execution_count": 1,
   "metadata": {},
   "outputs": [
    {
     "name": "stderr",
     "output_type": "stream",
     "text": [
      "2024-07-26 14:50:06.724 Python[72360:9079365] WARNING: Secure coding is not enabled for restorable state! Enable secure coding by implementing NSApplicationDelegate.applicationSupportsSecureRestorableState: and returning YES.\n"
     ]
    },
    {
     "ename": "",
     "evalue": "",
     "output_type": "error",
     "traceback": [
      "\u001b[1;31mThe Kernel crashed while executing code in the current cell or a previous cell. \n",
      "\u001b[1;31mPlease review the code in the cell(s) to identify a possible cause of the failure. \n",
      "\u001b[1;31mClick <a href='https://aka.ms/vscodeJupyterKernelCrash'>here</a> for more info. \n",
      "\u001b[1;31mView Jupyter <a href='command:jupyter.viewOutput'>log</a> for further details."
     ]
    }
   ],
   "source": [
    "# Power-Law (Gamma) Transformation\n",
    "import cv2\n",
    "import numpy as np\n",
    "path = \"cameraman.jpg\"\n",
    "img = cv2.imread(path, 0)\n",
    "for gamma in [0.1, 0.5, 1.2, 2.2]:\n",
    "    gamma_corrected = np.array(255*(img/255)**gamma, dtype = np.uint8)\n",
    "    cv2.imshow(\"cameraman.jpg\", gamma_corrected)\n",
    "    cv2.waitKey(2000)\n",
    "cv2.destroyAllWindows()\n"
   ]
  },
  {
   "cell_type": "code",
   "execution_count": null,
   "metadata": {},
   "outputs": [],
   "source": []
  }
 ],
 "metadata": {
  "kernelspec": {
   "display_name": "Python 3",
   "language": "python",
   "name": "python3"
  },
  "language_info": {
   "codemirror_mode": {
    "name": "ipython",
    "version": 3
   },
   "file_extension": ".py",
   "mimetype": "text/x-python",
   "name": "python",
   "nbconvert_exporter": "python",
   "pygments_lexer": "ipython3",
   "version": "3.12.1"
  }
 },
 "nbformat": 4,
 "nbformat_minor": 2
}
